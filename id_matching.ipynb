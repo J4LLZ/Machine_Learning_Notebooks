{
 "cells": [
  {
   "cell_type": "code",
   "execution_count": 1,
   "metadata": {},
   "outputs": [],
   "source": [
    "import pandas as pd \n",
    "import numpy as np\n",
    "import matplotlib.pyplot as plt"
   ]
  },
  {
   "cell_type": "code",
   "execution_count": 2,
   "metadata": {},
   "outputs": [],
   "source": [
    "# датасет с примером соответствий \n",
    "\n",
    "example_df = pd.read_csv(r'C:\\Users\\artyo\\OneDrive\\Рабочий стол\\1f\\02_etalon.csv', sep = ';')"
   ]
  },
  {
   "cell_type": "code",
   "execution_count": 3,
   "metadata": {},
   "outputs": [],
   "source": [
    "# датасет с инфо о регистрациях на базовых станциях \n",
    "\n",
    "dataset = pd.read_csv(r'C:\\Users\\artyo\\OneDrive\\Рабочий стол\\1f\\01_data.csv', sep = ';')"
   ]
  },
  {
   "cell_type": "code",
   "execution_count": 4,
   "metadata": {},
   "outputs": [
    {
     "data": {
      "text/plain": [
       "lac         0\n",
       "cid         0\n",
       "ts          0\n",
       "fulldate    0\n",
       "hash_id     0\n",
       "dtype: int64"
      ]
     },
     "execution_count": 4,
     "metadata": {},
     "output_type": "execute_result"
    }
   ],
   "source": [
    "# Проверим dataset на незаполненные значения\n",
    "\n",
    "dataset.isnull().sum()\n",
    "\n",
    "# таковые отсутствуют"
   ]
  },
  {
   "cell_type": "code",
   "execution_count": 5,
   "metadata": {},
   "outputs": [
    {
     "data": {
      "text/plain": [
       "id1    0\n",
       "id2    0\n",
       "dtype: int64"
      ]
     },
     "execution_count": 5,
     "metadata": {},
     "output_type": "execute_result"
    }
   ],
   "source": [
    "# Проверим example_df на незаполненные значения\n",
    "\n",
    "example_df.isnull().sum()"
   ]
  },
  {
   "cell_type": "code",
   "execution_count": 6,
   "metadata": {},
   "outputs": [
    {
     "data": {
      "text/plain": [
       "False    491\n",
       "Name: id1, dtype: int64"
      ]
     },
     "execution_count": 6,
     "metadata": {},
     "output_type": "execute_result"
    }
   ],
   "source": [
    "# Проверим example_df на дубли \n",
    "\n",
    "example_df['id1'].duplicated().value_counts()"
   ]
  },
  {
   "cell_type": "code",
   "execution_count": 7,
   "metadata": {},
   "outputs": [
    {
     "data": {
      "text/plain": [
       "False    491\n",
       "Name: id2, dtype: int64"
      ]
     },
     "execution_count": 7,
     "metadata": {},
     "output_type": "execute_result"
    }
   ],
   "source": [
    "# Проверим example_df на дубли \n",
    "\n",
    "example_df['id2'].duplicated().value_counts()"
   ]
  },
  {
   "cell_type": "code",
   "execution_count": 8,
   "metadata": {},
   "outputs": [
    {
     "data": {
      "text/plain": [
       "False    491\n",
       "dtype: int64"
      ]
     },
     "execution_count": 8,
     "metadata": {},
     "output_type": "execute_result"
    }
   ],
   "source": [
    "# Проверим example_df на дубли \n",
    "\n",
    "example_df.duplicated().value_counts()\n",
    "\n",
    "# таковых нет"
   ]
  },
  {
   "cell_type": "code",
   "execution_count": 9,
   "metadata": {},
   "outputs": [],
   "source": [
    "# Добавим в dataset имеющиеся соответствия\n",
    "# Первый left join \n",
    "\n",
    "df = pd.merge(dataset, \n",
    "              example_df.rename( columns = {'id1':'hash_id','id2': '1st_id'}), \n",
    "              on='hash_id', \n",
    "              how = 'left')"
   ]
  },
  {
   "cell_type": "code",
   "execution_count": 10,
   "metadata": {},
   "outputs": [],
   "source": [
    "# Добавим в dataset имеющиеся соответствия\n",
    "# Второй left join \n",
    "\n",
    "df = pd.merge(df, \n",
    "              example_df.rename( columns = {'id2':'hash_id','id1': '2nd_id'}), \n",
    "              on='hash_id', \n",
    "              how = 'left')"
   ]
  },
  {
   "cell_type": "code",
   "execution_count": 11,
   "metadata": {},
   "outputs": [],
   "source": [
    "# комбинация двух полей после left join-ов\n",
    "\n",
    "df['related_id'] = df['1st_id'].combine_first(df['2nd_id'])"
   ]
  },
  {
   "cell_type": "code",
   "execution_count": 12,
   "metadata": {},
   "outputs": [],
   "source": [
    "# Дроп избыточных полей\n",
    "\n",
    "df.drop(columns = ['1st_id', '2nd_id'],\n",
    "        axis = 1,\n",
    "        inplace = True)"
   ]
  },
  {
   "cell_type": "code",
   "execution_count": 13,
   "metadata": {},
   "outputs": [
    {
     "data": {
      "text/plain": [
       "2018    9153692\n",
       "Name: fulldate, dtype: int64"
      ]
     },
     "execution_count": 13,
     "metadata": {},
     "output_type": "execute_result"
    }
   ],
   "source": [
    "# Проверим, имеются ли записи по различным годам\n",
    "\n",
    "pd.DatetimeIndex(df['fulldate']).year.value_counts()\n",
    "\n",
    "# не имеются"
   ]
  },
  {
   "cell_type": "code",
   "execution_count": 14,
   "metadata": {},
   "outputs": [
    {
     "data": {
      "text/plain": [
       "9    9153692\n",
       "Name: fulldate, dtype: int64"
      ]
     },
     "execution_count": 14,
     "metadata": {},
     "output_type": "execute_result"
    }
   ],
   "source": [
    "# Проверим, имеются ли записи по различным месяцам\n",
    "\n",
    "pd.DatetimeIndex(df['fulldate']).month.value_counts()\n",
    "\n",
    "# не имеются"
   ]
  },
  {
   "cell_type": "code",
   "execution_count": 15,
   "metadata": {},
   "outputs": [],
   "source": [
    "# Из всей даты оставим только день \n",
    "\n",
    "df['day'] = pd.DatetimeIndex(df['fulldate']).day\n",
    "df.drop(columns = 'fulldate',\n",
    "        axis = 1,\n",
    "        inplace = True)"
   ]
  },
  {
   "cell_type": "code",
   "execution_count": 16,
   "metadata": {},
   "outputs": [],
   "source": [
    "# Приведём секунды к int для более простого восприятия\n",
    "\n",
    "df['ts'] = df['ts'].astype(int)"
   ]
  },
  {
   "cell_type": "code",
   "execution_count": 17,
   "metadata": {},
   "outputs": [
    {
     "data": {
      "text/html": [
       "<div>\n",
       "<style scoped>\n",
       "    .dataframe tbody tr th:only-of-type {\n",
       "        vertical-align: middle;\n",
       "    }\n",
       "\n",
       "    .dataframe tbody tr th {\n",
       "        vertical-align: top;\n",
       "    }\n",
       "\n",
       "    .dataframe thead th {\n",
       "        text-align: right;\n",
       "    }\n",
       "</style>\n",
       "<table border=\"1\" class=\"dataframe\">\n",
       "  <thead>\n",
       "    <tr style=\"text-align: right;\">\n",
       "      <th></th>\n",
       "      <th>lac</th>\n",
       "      <th>cid</th>\n",
       "      <th>ts</th>\n",
       "      <th>hash_id</th>\n",
       "      <th>related_id</th>\n",
       "      <th>day</th>\n",
       "    </tr>\n",
       "  </thead>\n",
       "  <tbody>\n",
       "    <tr>\n",
       "      <th>2319340</th>\n",
       "      <td>9705</td>\n",
       "      <td>197985542</td>\n",
       "      <td>1536515708</td>\n",
       "      <td>1219865</td>\n",
       "      <td>NaN</td>\n",
       "      <td>9</td>\n",
       "    </tr>\n",
       "    <tr>\n",
       "      <th>317864</th>\n",
       "      <td>9739</td>\n",
       "      <td>197971458</td>\n",
       "      <td>1536504236</td>\n",
       "      <td>1885726</td>\n",
       "      <td>2176298.0</td>\n",
       "      <td>9</td>\n",
       "    </tr>\n",
       "    <tr>\n",
       "      <th>4525873</th>\n",
       "      <td>7752</td>\n",
       "      <td>6313</td>\n",
       "      <td>1538148791</td>\n",
       "      <td>2756372</td>\n",
       "      <td>1963733.0</td>\n",
       "      <td>28</td>\n",
       "    </tr>\n",
       "    <tr>\n",
       "      <th>8001326</th>\n",
       "      <td>7752</td>\n",
       "      <td>764</td>\n",
       "      <td>1537425762</td>\n",
       "      <td>2585414</td>\n",
       "      <td>NaN</td>\n",
       "      <td>20</td>\n",
       "    </tr>\n",
       "    <tr>\n",
       "      <th>6638845</th>\n",
       "      <td>9716</td>\n",
       "      <td>15703044</td>\n",
       "      <td>1537114735</td>\n",
       "      <td>2897196</td>\n",
       "      <td>NaN</td>\n",
       "      <td>16</td>\n",
       "    </tr>\n",
       "    <tr>\n",
       "      <th>4043894</th>\n",
       "      <td>5028</td>\n",
       "      <td>129308929</td>\n",
       "      <td>1536849571</td>\n",
       "      <td>1898158</td>\n",
       "      <td>NaN</td>\n",
       "      <td>13</td>\n",
       "    </tr>\n",
       "    <tr>\n",
       "      <th>3005483</th>\n",
       "      <td>9711</td>\n",
       "      <td>197800736</td>\n",
       "      <td>1536412865</td>\n",
       "      <td>1561119</td>\n",
       "      <td>NaN</td>\n",
       "      <td>8</td>\n",
       "    </tr>\n",
       "    <tr>\n",
       "      <th>61686</th>\n",
       "      <td>9716</td>\n",
       "      <td>31422</td>\n",
       "      <td>1535863016</td>\n",
       "      <td>1213812</td>\n",
       "      <td>2785640.0</td>\n",
       "      <td>2</td>\n",
       "    </tr>\n",
       "    <tr>\n",
       "      <th>4906667</th>\n",
       "      <td>9017</td>\n",
       "      <td>231617283</td>\n",
       "      <td>1538260140</td>\n",
       "      <td>2948417</td>\n",
       "      <td>1706783.0</td>\n",
       "      <td>29</td>\n",
       "    </tr>\n",
       "    <tr>\n",
       "      <th>5809789</th>\n",
       "      <td>9701</td>\n",
       "      <td>254263301</td>\n",
       "      <td>1538060900</td>\n",
       "      <td>2977512</td>\n",
       "      <td>NaN</td>\n",
       "      <td>27</td>\n",
       "    </tr>\n",
       "  </tbody>\n",
       "</table>\n",
       "</div>"
      ],
      "text/plain": [
       "          lac        cid          ts  hash_id  related_id  day\n",
       "2319340  9705  197985542  1536515708  1219865         NaN    9\n",
       "317864   9739  197971458  1536504236  1885726   2176298.0    9\n",
       "4525873  7752       6313  1538148791  2756372   1963733.0   28\n",
       "8001326  7752        764  1537425762  2585414         NaN   20\n",
       "6638845  9716   15703044  1537114735  2897196         NaN   16\n",
       "4043894  5028  129308929  1536849571  1898158         NaN   13\n",
       "3005483  9711  197800736  1536412865  1561119         NaN    8\n",
       "61686    9716      31422  1535863016  1213812   2785640.0    2\n",
       "4906667  9017  231617283  1538260140  2948417   1706783.0   29\n",
       "5809789  9701  254263301  1538060900  2977512         NaN   27"
      ]
     },
     "execution_count": 17,
     "metadata": {},
     "output_type": "execute_result"
    }
   ],
   "source": [
    "df.sample(10)"
   ]
  },
  {
   "cell_type": "code",
   "execution_count": 18,
   "metadata": {},
   "outputs": [],
   "source": [
    "# Выберем данные с заполненным related_id\n",
    "# Это будет рабочим сетом\n",
    "\n",
    "rel_df = df.loc[df['related_id'].isna() == False]"
   ]
  },
  {
   "cell_type": "code",
   "execution_count": 19,
   "metadata": {},
   "outputs": [],
   "source": [
    "# Выберем данные с незаполненным related_id\n",
    "# Для него нужно найти соответствия\n",
    "\n",
    "not_rel_df = df.loc[df['related_id'].isna() == True]"
   ]
  },
  {
   "cell_type": "code",
   "execution_count": 20,
   "metadata": {},
   "outputs": [],
   "source": [
    "# разделим данные на две части месяца\n",
    "\n",
    "first_rel_df = rel_df.loc[rel_df['day'] < 15]\n",
    "second_rel_df  = rel_df.loc[rel_df['day'] > 15]"
   ]
  },
  {
   "cell_type": "markdown",
   "metadata": {},
   "source": [
    "### Первый показатель для поиска соответствий: \n",
    "Схожесть количества регистраций клиента в паре *lac/cid* в первой и второй половинах месяца."
   ]
  },
  {
   "cell_type": "code",
   "execution_count": 21,
   "metadata": {},
   "outputs": [],
   "source": [
    "# Для каждого hash_id первой половины посчитаем,\n",
    "# сколько раз hash_id регистрировался в каждой паре lac/cid\n",
    "\n",
    "f1_prep = first_rel_df.groupby(['hash_id',\n",
    "                               'lac',\n",
    "                               'cid'])['day'].count().reset_index(name='counts')"
   ]
  },
  {
   "cell_type": "code",
   "execution_count": 22,
   "metadata": {},
   "outputs": [],
   "source": [
    "# Для каждого hash_id второй половины посчитаем,\n",
    "# сколько раз hash_id регистрировался в каждой паре lac/cid\n",
    "\n",
    "s1_prep = second_rel_df.groupby(['hash_id',\n",
    "                                'lac',\n",
    "                                'cid'])['day'].count().reset_index(name='counts')"
   ]
  },
  {
   "cell_type": "code",
   "execution_count": 23,
   "metadata": {},
   "outputs": [],
   "source": [
    "# Будем искать соответствие hash_id первой и второй половины на основании пар lac/cid и количества регистраций в них\n",
    "# соединим два подготовленных в предыдущих шагах датафрейма\n",
    "\n",
    "f_df = pd.merge(f1_prep, \n",
    "                s1_prep, \n",
    "                on= ['lac','cid'], \n",
    "                how = 'inner')"
   ]
  },
  {
   "cell_type": "code",
   "execution_count": 24,
   "metadata": {},
   "outputs": [
    {
     "data": {
      "text/html": [
       "<div>\n",
       "<style scoped>\n",
       "    .dataframe tbody tr th:only-of-type {\n",
       "        vertical-align: middle;\n",
       "    }\n",
       "\n",
       "    .dataframe tbody tr th {\n",
       "        vertical-align: top;\n",
       "    }\n",
       "\n",
       "    .dataframe thead th {\n",
       "        text-align: right;\n",
       "    }\n",
       "</style>\n",
       "<table border=\"1\" class=\"dataframe\">\n",
       "  <thead>\n",
       "    <tr style=\"text-align: right;\">\n",
       "      <th></th>\n",
       "      <th>hash_id_x</th>\n",
       "      <th>lac</th>\n",
       "      <th>cid</th>\n",
       "      <th>counts_x</th>\n",
       "      <th>hash_id_y</th>\n",
       "      <th>counts_y</th>\n",
       "    </tr>\n",
       "  </thead>\n",
       "  <tbody>\n",
       "    <tr>\n",
       "      <th>0</th>\n",
       "      <td>1001168</td>\n",
       "      <td>5007</td>\n",
       "      <td>7830</td>\n",
       "      <td>1</td>\n",
       "      <td>2308273</td>\n",
       "      <td>2</td>\n",
       "    </tr>\n",
       "    <tr>\n",
       "      <th>1</th>\n",
       "      <td>1001168</td>\n",
       "      <td>5007</td>\n",
       "      <td>14055</td>\n",
       "      <td>1</td>\n",
       "      <td>2210701</td>\n",
       "      <td>1</td>\n",
       "    </tr>\n",
       "    <tr>\n",
       "      <th>2</th>\n",
       "      <td>1001168</td>\n",
       "      <td>5007</td>\n",
       "      <td>14055</td>\n",
       "      <td>1</td>\n",
       "      <td>2444978</td>\n",
       "      <td>2</td>\n",
       "    </tr>\n",
       "    <tr>\n",
       "      <th>3</th>\n",
       "      <td>1001168</td>\n",
       "      <td>5007</td>\n",
       "      <td>14055</td>\n",
       "      <td>1</td>\n",
       "      <td>2565113</td>\n",
       "      <td>1</td>\n",
       "    </tr>\n",
       "    <tr>\n",
       "      <th>4</th>\n",
       "      <td>1157689</td>\n",
       "      <td>5007</td>\n",
       "      <td>14055</td>\n",
       "      <td>1</td>\n",
       "      <td>2210701</td>\n",
       "      <td>1</td>\n",
       "    </tr>\n",
       "  </tbody>\n",
       "</table>\n",
       "</div>"
      ],
      "text/plain": [
       "   hash_id_x   lac    cid  counts_x  hash_id_y  counts_y\n",
       "0    1001168  5007   7830         1    2308273         2\n",
       "1    1001168  5007  14055         1    2210701         1\n",
       "2    1001168  5007  14055         1    2444978         2\n",
       "3    1001168  5007  14055         1    2565113         1\n",
       "4    1157689  5007  14055         1    2210701         1"
      ]
     },
     "execution_count": 24,
     "metadata": {},
     "output_type": "execute_result"
    }
   ],
   "source": [
    "f_df.head()"
   ]
  },
  {
   "cell_type": "markdown",
   "metadata": {},
   "source": [
    "### Второй показатель для поиска соответствий: \n",
    "Схожесть количества секунд, которые клиент провёл в паре *lac/cid* в первой и второй половинах месяца.\n",
    "Под количеством проведенных в паре *lac/cid* секунд подразумевает разность между ts_2 и ts_1, где: \n",
    " * ts_1 - UNIX-время, в которое клиент был зарегистрирова в паре *lac/cid* (обозначим пару A)\n",
    " * ts_2 - UNIX-время, в которое  клиент был зарегистрирова в следующей паре *lac/cid*, отличной от A \n",
    "\n",
    "т.е. это разность UNIX-времени, для двух последовательных различных пар *lac/cid* в случае сортировки в порядке возрастания ts"
   ]
  },
  {
   "cell_type": "code",
   "execution_count": 25,
   "metadata": {},
   "outputs": [],
   "source": [
    "# Отсортируем датафрейм первой половины месяца с имеющимися соответствиями идентификаторов \n",
    "# в порядке возрастания hash_id, day, ts\n",
    "\n",
    "ftdf = first_rel_df.sort_values(by=['hash_id','day','ts'])"
   ]
  },
  {
   "cell_type": "code",
   "execution_count": 26,
   "metadata": {},
   "outputs": [],
   "source": [
    "# Подтянем ts следующей записи для каждого hash_id и вычтем из него ts текущей\n",
    "# В случае, если у следующей записи тот же ts, получим 0 \n",
    "\n",
    "ftdf['lead'] = ftdf.groupby(['hash_id'])['ts'].shift(-1) - ftdf['ts']"
   ]
  },
  {
   "cell_type": "code",
   "execution_count": 27,
   "metadata": {},
   "outputs": [],
   "source": [
    "# Если же запись последняя, проставим 0 \n",
    "\n",
    "ftdf['lead'].fillna(0, inplace = True)"
   ]
  },
  {
   "cell_type": "code",
   "execution_count": 28,
   "metadata": {},
   "outputs": [],
   "source": [
    "# Просуммируем время пребывания клиента на каждой паре lac/cid\n",
    "\n",
    "ftdf = ftdf.groupby(['hash_id','lac','cid'])['lead'].sum().reset_index(name = 'sec')"
   ]
  },
  {
   "cell_type": "code",
   "execution_count": 29,
   "metadata": {},
   "outputs": [],
   "source": [
    "# Действия выше производились для первой половины месяца.\n",
    "# Теперь повторим то же самое для второй половины.\n",
    "\n",
    "stdf = second_rel_df.sort_values(by=['hash_id','day','ts'])\n",
    "stdf['lead'] = stdf.groupby(['hash_id'])['ts'].shift(-1) - stdf['ts']\n",
    "stdf['lead'].fillna(0, inplace = True)\n",
    "stdf = stdf.groupby(['hash_id','lac','cid'])['lead'].sum().reset_index(name = 'sec')"
   ]
  },
  {
   "cell_type": "code",
   "execution_count": 30,
   "metadata": {},
   "outputs": [],
   "source": [
    "# Будем искать соответствие hash_id первой и второй половины на основании пар lac/cid и количества проведенных секунд в них\n",
    "# соединим два подготовленных в предыдущих шагах датафрейма\n",
    "\n",
    "s_df = pd.merge(ftdf, \n",
    "                stdf, \n",
    "                on= ['lac','cid'], \n",
    "                how = 'inner')"
   ]
  },
  {
   "cell_type": "code",
   "execution_count": 31,
   "metadata": {},
   "outputs": [
    {
     "data": {
      "text/plain": [
       "((5222092, 6), (5222092, 6))"
      ]
     },
     "execution_count": 31,
     "metadata": {},
     "output_type": "execute_result"
    }
   ],
   "source": [
    "# Первый датафрейм содержит количество регистраций клиентов в парах lac/cid \n",
    "# Второй датафрейм содержит число секунд, проведенных клиентом в парах lac/cid \n",
    "\n",
    "f_df.shape, s_df.shape"
   ]
  },
  {
   "cell_type": "code",
   "execution_count": 32,
   "metadata": {},
   "outputs": [
    {
     "data": {
      "text/html": [
       "<div>\n",
       "<style scoped>\n",
       "    .dataframe tbody tr th:only-of-type {\n",
       "        vertical-align: middle;\n",
       "    }\n",
       "\n",
       "    .dataframe tbody tr th {\n",
       "        vertical-align: top;\n",
       "    }\n",
       "\n",
       "    .dataframe thead th {\n",
       "        text-align: right;\n",
       "    }\n",
       "</style>\n",
       "<table border=\"1\" class=\"dataframe\">\n",
       "  <thead>\n",
       "    <tr style=\"text-align: right;\">\n",
       "      <th></th>\n",
       "      <th>hash_id_x</th>\n",
       "      <th>lac</th>\n",
       "      <th>cid</th>\n",
       "      <th>counts_x</th>\n",
       "      <th>hash_id_y</th>\n",
       "      <th>counts_y</th>\n",
       "    </tr>\n",
       "  </thead>\n",
       "  <tbody>\n",
       "    <tr>\n",
       "      <th>0</th>\n",
       "      <td>1001168</td>\n",
       "      <td>5007</td>\n",
       "      <td>7830</td>\n",
       "      <td>1</td>\n",
       "      <td>2308273</td>\n",
       "      <td>2</td>\n",
       "    </tr>\n",
       "    <tr>\n",
       "      <th>1</th>\n",
       "      <td>1001168</td>\n",
       "      <td>5007</td>\n",
       "      <td>14055</td>\n",
       "      <td>1</td>\n",
       "      <td>2210701</td>\n",
       "      <td>1</td>\n",
       "    </tr>\n",
       "    <tr>\n",
       "      <th>2</th>\n",
       "      <td>1001168</td>\n",
       "      <td>5007</td>\n",
       "      <td>14055</td>\n",
       "      <td>1</td>\n",
       "      <td>2444978</td>\n",
       "      <td>2</td>\n",
       "    </tr>\n",
       "    <tr>\n",
       "      <th>3</th>\n",
       "      <td>1001168</td>\n",
       "      <td>5007</td>\n",
       "      <td>14055</td>\n",
       "      <td>1</td>\n",
       "      <td>2565113</td>\n",
       "      <td>1</td>\n",
       "    </tr>\n",
       "    <tr>\n",
       "      <th>4</th>\n",
       "      <td>1157689</td>\n",
       "      <td>5007</td>\n",
       "      <td>14055</td>\n",
       "      <td>1</td>\n",
       "      <td>2210701</td>\n",
       "      <td>1</td>\n",
       "    </tr>\n",
       "  </tbody>\n",
       "</table>\n",
       "</div>"
      ],
      "text/plain": [
       "   hash_id_x   lac    cid  counts_x  hash_id_y  counts_y\n",
       "0    1001168  5007   7830         1    2308273         2\n",
       "1    1001168  5007  14055         1    2210701         1\n",
       "2    1001168  5007  14055         1    2444978         2\n",
       "3    1001168  5007  14055         1    2565113         1\n",
       "4    1157689  5007  14055         1    2210701         1"
      ]
     },
     "execution_count": 32,
     "metadata": {},
     "output_type": "execute_result"
    }
   ],
   "source": [
    "f_df.head()"
   ]
  },
  {
   "cell_type": "code",
   "execution_count": 33,
   "metadata": {},
   "outputs": [
    {
     "data": {
      "text/html": [
       "<div>\n",
       "<style scoped>\n",
       "    .dataframe tbody tr th:only-of-type {\n",
       "        vertical-align: middle;\n",
       "    }\n",
       "\n",
       "    .dataframe tbody tr th {\n",
       "        vertical-align: top;\n",
       "    }\n",
       "\n",
       "    .dataframe thead th {\n",
       "        text-align: right;\n",
       "    }\n",
       "</style>\n",
       "<table border=\"1\" class=\"dataframe\">\n",
       "  <thead>\n",
       "    <tr style=\"text-align: right;\">\n",
       "      <th></th>\n",
       "      <th>hash_id_x</th>\n",
       "      <th>lac</th>\n",
       "      <th>cid</th>\n",
       "      <th>sec_x</th>\n",
       "      <th>hash_id_y</th>\n",
       "      <th>sec_y</th>\n",
       "    </tr>\n",
       "  </thead>\n",
       "  <tbody>\n",
       "    <tr>\n",
       "      <th>0</th>\n",
       "      <td>1001168</td>\n",
       "      <td>5007</td>\n",
       "      <td>7830</td>\n",
       "      <td>30.0</td>\n",
       "      <td>2308273</td>\n",
       "      <td>45.0</td>\n",
       "    </tr>\n",
       "    <tr>\n",
       "      <th>1</th>\n",
       "      <td>1001168</td>\n",
       "      <td>5007</td>\n",
       "      <td>14055</td>\n",
       "      <td>312.0</td>\n",
       "      <td>2210701</td>\n",
       "      <td>17.0</td>\n",
       "    </tr>\n",
       "    <tr>\n",
       "      <th>2</th>\n",
       "      <td>1001168</td>\n",
       "      <td>5007</td>\n",
       "      <td>14055</td>\n",
       "      <td>312.0</td>\n",
       "      <td>2444978</td>\n",
       "      <td>147.0</td>\n",
       "    </tr>\n",
       "    <tr>\n",
       "      <th>3</th>\n",
       "      <td>1001168</td>\n",
       "      <td>5007</td>\n",
       "      <td>14055</td>\n",
       "      <td>312.0</td>\n",
       "      <td>2565113</td>\n",
       "      <td>8.0</td>\n",
       "    </tr>\n",
       "    <tr>\n",
       "      <th>4</th>\n",
       "      <td>1157689</td>\n",
       "      <td>5007</td>\n",
       "      <td>14055</td>\n",
       "      <td>22.0</td>\n",
       "      <td>2210701</td>\n",
       "      <td>17.0</td>\n",
       "    </tr>\n",
       "  </tbody>\n",
       "</table>\n",
       "</div>"
      ],
      "text/plain": [
       "   hash_id_x   lac    cid  sec_x  hash_id_y  sec_y\n",
       "0    1001168  5007   7830   30.0    2308273   45.0\n",
       "1    1001168  5007  14055  312.0    2210701   17.0\n",
       "2    1001168  5007  14055  312.0    2444978  147.0\n",
       "3    1001168  5007  14055  312.0    2565113    8.0\n",
       "4    1157689  5007  14055   22.0    2210701   17.0"
      ]
     },
     "execution_count": 33,
     "metadata": {},
     "output_type": "execute_result"
    }
   ],
   "source": [
    "s_df.head()"
   ]
  },
  {
   "cell_type": "code",
   "execution_count": 34,
   "metadata": {},
   "outputs": [],
   "source": [
    "# Сформируем третий, который будет содержать оба показателя, на основании которых будем искать соответствие\n",
    "\n",
    "df = pd.merge(f_df, \n",
    "              s_df, \n",
    "              on= ['lac','cid', 'hash_id_x', 'hash_id_y'], \n",
    "              how = 'inner')"
   ]
  },
  {
   "cell_type": "code",
   "execution_count": 35,
   "metadata": {},
   "outputs": [
    {
     "data": {
      "text/html": [
       "<div>\n",
       "<style scoped>\n",
       "    .dataframe tbody tr th:only-of-type {\n",
       "        vertical-align: middle;\n",
       "    }\n",
       "\n",
       "    .dataframe tbody tr th {\n",
       "        vertical-align: top;\n",
       "    }\n",
       "\n",
       "    .dataframe thead th {\n",
       "        text-align: right;\n",
       "    }\n",
       "</style>\n",
       "<table border=\"1\" class=\"dataframe\">\n",
       "  <thead>\n",
       "    <tr style=\"text-align: right;\">\n",
       "      <th></th>\n",
       "      <th>hash_id_x</th>\n",
       "      <th>lac</th>\n",
       "      <th>cid</th>\n",
       "      <th>counts_x</th>\n",
       "      <th>hash_id_y</th>\n",
       "      <th>counts_y</th>\n",
       "      <th>sec_x</th>\n",
       "      <th>sec_y</th>\n",
       "    </tr>\n",
       "  </thead>\n",
       "  <tbody>\n",
       "    <tr>\n",
       "      <th>170373</th>\n",
       "      <td>1998843</td>\n",
       "      <td>7716</td>\n",
       "      <td>3668</td>\n",
       "      <td>61</td>\n",
       "      <td>2518576</td>\n",
       "      <td>75</td>\n",
       "      <td>267878.0</td>\n",
       "      <td>413820.0</td>\n",
       "    </tr>\n",
       "    <tr>\n",
       "      <th>170386</th>\n",
       "      <td>1998843</td>\n",
       "      <td>7716</td>\n",
       "      <td>3668</td>\n",
       "      <td>61</td>\n",
       "      <td>2914090</td>\n",
       "      <td>42</td>\n",
       "      <td>267878.0</td>\n",
       "      <td>62215.0</td>\n",
       "    </tr>\n",
       "    <tr>\n",
       "      <th>170375</th>\n",
       "      <td>1998843</td>\n",
       "      <td>7716</td>\n",
       "      <td>3668</td>\n",
       "      <td>61</td>\n",
       "      <td>2549114</td>\n",
       "      <td>34</td>\n",
       "      <td>267878.0</td>\n",
       "      <td>12623.0</td>\n",
       "    </tr>\n",
       "    <tr>\n",
       "      <th>170357</th>\n",
       "      <td>1998843</td>\n",
       "      <td>7716</td>\n",
       "      <td>3668</td>\n",
       "      <td>61</td>\n",
       "      <td>2062742</td>\n",
       "      <td>32</td>\n",
       "      <td>267878.0</td>\n",
       "      <td>9375.0</td>\n",
       "    </tr>\n",
       "    <tr>\n",
       "      <th>170377</th>\n",
       "      <td>1998843</td>\n",
       "      <td>7716</td>\n",
       "      <td>3668</td>\n",
       "      <td>61</td>\n",
       "      <td>2566308</td>\n",
       "      <td>28</td>\n",
       "      <td>267878.0</td>\n",
       "      <td>83607.0</td>\n",
       "    </tr>\n",
       "  </tbody>\n",
       "</table>\n",
       "</div>"
      ],
      "text/plain": [
       "        hash_id_x   lac   cid  counts_x  hash_id_y  counts_y     sec_x  \\\n",
       "170373    1998843  7716  3668        61    2518576        75  267878.0   \n",
       "170386    1998843  7716  3668        61    2914090        42  267878.0   \n",
       "170375    1998843  7716  3668        61    2549114        34  267878.0   \n",
       "170357    1998843  7716  3668        61    2062742        32  267878.0   \n",
       "170377    1998843  7716  3668        61    2566308        28  267878.0   \n",
       "\n",
       "           sec_y  \n",
       "170373  413820.0  \n",
       "170386   62215.0  \n",
       "170375   12623.0  \n",
       "170357    9375.0  \n",
       "170377   83607.0  "
      ]
     },
     "execution_count": 35,
     "metadata": {},
     "output_type": "execute_result"
    }
   ],
   "source": [
    "df.sort_values(by=['hash_id_x','counts_x','counts_y'], ascending = False).head()"
   ]
  },
  {
   "cell_type": "markdown",
   "metadata": {},
   "source": [
    "В получившемся сете находятся все комбинации пар *hash_id* из первой и второй половины месяца, у которых есть пересечения по парам *lac/cid*\n",
    "т.е. те *hash_id*, которые регистрировались в одних и тех же *lac/cid*\n",
    " * hash_id_x  - id клиента из первой половины месяца\n",
    " * hash_id_y - id клиента из второй половины месяца\n",
    " * counts_x - количество регистраций клиента в паре lac/cid в первой половине месяца \n",
    " * counts_y - количество регистраций клиента в паре lac/cid во второй половине месяца\n",
    " * sec_x - количество секунд, проведенных клиентом в паре lac/cid в первой половине месяца\n",
    " * sec_y - количество секунд, проведенных клиентом в паре lac/cid во второй половине месяца\n",
    "\n",
    " \n",
    " \n",
    "Теперь задачей является определение таких пар *hash_id* из первой и второй половины, у которых **наиболее близки по значению**  *counts_x * и *counts_y*, а также *sec_x* и *sec_y*"
   ]
  },
  {
   "cell_type": "code",
   "execution_count": 36,
   "metadata": {},
   "outputs": [],
   "source": [
    "# Зададим абсолютную разность в проведенных секундах в lac/cid первой и второй половинах месяца\n",
    "\n",
    "df['dif_s'] = abs(df['sec_x'] - df['sec_y'])"
   ]
  },
  {
   "cell_type": "code",
   "execution_count": 37,
   "metadata": {},
   "outputs": [],
   "source": [
    "# Зададим абсолютную разность в количестве регистраций в lac/cid первой и второй половинах месяца\n",
    "\n",
    "df['dif_c'] = abs(df['counts_x'] - df['counts_y'])"
   ]
  },
  {
   "cell_type": "code",
   "execution_count": 38,
   "metadata": {},
   "outputs": [],
   "source": [
    "# Нормируем абсолютную ошибку (будем называть разность так) в проведенных секундах в lac/cid первой и второй половинах месяца\n",
    "\n",
    "df['norm_dif_c'] = (df['dif_c'] - df['dif_c'].min())/(df['dif_c'].max() - df['dif_c'].min())"
   ]
  },
  {
   "cell_type": "code",
   "execution_count": 39,
   "metadata": {},
   "outputs": [],
   "source": [
    "# Нормируем абсолютную ошибку в количестве регистраций в lac/cid первой и второй половинах месяца\n",
    "\n",
    "df['norm_dif_s'] = (df['dif_s'] - df['dif_s'].min())/(df['dif_s'].max() - df['dif_s'].min())"
   ]
  },
  {
   "cell_type": "code",
   "execution_count": 40,
   "metadata": {
    "scrolled": true
   },
   "outputs": [
    {
     "data": {
      "text/html": [
       "<div>\n",
       "<style scoped>\n",
       "    .dataframe tbody tr th:only-of-type {\n",
       "        vertical-align: middle;\n",
       "    }\n",
       "\n",
       "    .dataframe tbody tr th {\n",
       "        vertical-align: top;\n",
       "    }\n",
       "\n",
       "    .dataframe thead th {\n",
       "        text-align: right;\n",
       "    }\n",
       "</style>\n",
       "<table border=\"1\" class=\"dataframe\">\n",
       "  <thead>\n",
       "    <tr style=\"text-align: right;\">\n",
       "      <th></th>\n",
       "      <th>hash_id_x</th>\n",
       "      <th>lac</th>\n",
       "      <th>cid</th>\n",
       "      <th>counts_x</th>\n",
       "      <th>hash_id_y</th>\n",
       "      <th>counts_y</th>\n",
       "      <th>sec_x</th>\n",
       "      <th>sec_y</th>\n",
       "      <th>dif_s</th>\n",
       "      <th>dif_c</th>\n",
       "      <th>norm_dif_c</th>\n",
       "      <th>norm_dif_s</th>\n",
       "    </tr>\n",
       "  </thead>\n",
       "  <tbody>\n",
       "    <tr>\n",
       "      <th>0</th>\n",
       "      <td>1001168</td>\n",
       "      <td>5007</td>\n",
       "      <td>7830</td>\n",
       "      <td>1</td>\n",
       "      <td>2308273</td>\n",
       "      <td>2</td>\n",
       "      <td>30.0</td>\n",
       "      <td>45.0</td>\n",
       "      <td>15.0</td>\n",
       "      <td>1</td>\n",
       "      <td>0.000248</td>\n",
       "      <td>0.000009</td>\n",
       "    </tr>\n",
       "    <tr>\n",
       "      <th>1</th>\n",
       "      <td>1001168</td>\n",
       "      <td>5007</td>\n",
       "      <td>14055</td>\n",
       "      <td>1</td>\n",
       "      <td>2210701</td>\n",
       "      <td>1</td>\n",
       "      <td>312.0</td>\n",
       "      <td>17.0</td>\n",
       "      <td>295.0</td>\n",
       "      <td>0</td>\n",
       "      <td>0.000000</td>\n",
       "      <td>0.000181</td>\n",
       "    </tr>\n",
       "    <tr>\n",
       "      <th>2</th>\n",
       "      <td>1001168</td>\n",
       "      <td>5007</td>\n",
       "      <td>14055</td>\n",
       "      <td>1</td>\n",
       "      <td>2444978</td>\n",
       "      <td>2</td>\n",
       "      <td>312.0</td>\n",
       "      <td>147.0</td>\n",
       "      <td>165.0</td>\n",
       "      <td>1</td>\n",
       "      <td>0.000248</td>\n",
       "      <td>0.000101</td>\n",
       "    </tr>\n",
       "    <tr>\n",
       "      <th>3</th>\n",
       "      <td>1001168</td>\n",
       "      <td>5007</td>\n",
       "      <td>14055</td>\n",
       "      <td>1</td>\n",
       "      <td>2565113</td>\n",
       "      <td>1</td>\n",
       "      <td>312.0</td>\n",
       "      <td>8.0</td>\n",
       "      <td>304.0</td>\n",
       "      <td>0</td>\n",
       "      <td>0.000000</td>\n",
       "      <td>0.000187</td>\n",
       "    </tr>\n",
       "    <tr>\n",
       "      <th>4</th>\n",
       "      <td>1157689</td>\n",
       "      <td>5007</td>\n",
       "      <td>14055</td>\n",
       "      <td>1</td>\n",
       "      <td>2210701</td>\n",
       "      <td>1</td>\n",
       "      <td>22.0</td>\n",
       "      <td>17.0</td>\n",
       "      <td>5.0</td>\n",
       "      <td>0</td>\n",
       "      <td>0.000000</td>\n",
       "      <td>0.000003</td>\n",
       "    </tr>\n",
       "  </tbody>\n",
       "</table>\n",
       "</div>"
      ],
      "text/plain": [
       "   hash_id_x   lac    cid  counts_x  hash_id_y  counts_y  sec_x  sec_y  dif_s  \\\n",
       "0    1001168  5007   7830         1    2308273         2   30.0   45.0   15.0   \n",
       "1    1001168  5007  14055         1    2210701         1  312.0   17.0  295.0   \n",
       "2    1001168  5007  14055         1    2444978         2  312.0  147.0  165.0   \n",
       "3    1001168  5007  14055         1    2565113         1  312.0    8.0  304.0   \n",
       "4    1157689  5007  14055         1    2210701         1   22.0   17.0    5.0   \n",
       "\n",
       "   dif_c  norm_dif_c  norm_dif_s  \n",
       "0      1    0.000248    0.000009  \n",
       "1      0    0.000000    0.000181  \n",
       "2      1    0.000248    0.000101  \n",
       "3      0    0.000000    0.000187  \n",
       "4      0    0.000000    0.000003  "
      ]
     },
     "execution_count": 40,
     "metadata": {},
     "output_type": "execute_result"
    }
   ],
   "source": [
    "df.head()"
   ]
  },
  {
   "cell_type": "code",
   "execution_count": 41,
   "metadata": {},
   "outputs": [],
   "source": [
    "# Под итоговой ошибкой будем считать сумму двух подготовленных ошибок \n",
    "\n",
    "df['dif'] = df['norm_dif_c'] + df['norm_dif_s']"
   ]
  },
  {
   "cell_type": "code",
   "execution_count": 42,
   "metadata": {},
   "outputs": [],
   "source": [
    "# Оставим те записи, у которых итоговая ошибка будет минимальной для hash_id из первой половины месяца \n",
    "\n",
    "df = df.loc[df['dif'] == df.groupby(['hash_id_x',\n",
    "                                     'lac',\n",
    "                                     'cid'])['dif'].transform('min')]"
   ]
  },
  {
   "cell_type": "code",
   "execution_count": 43,
   "metadata": {
    "scrolled": true
   },
   "outputs": [
    {
     "data": {
      "text/html": [
       "<div>\n",
       "<style scoped>\n",
       "    .dataframe tbody tr th:only-of-type {\n",
       "        vertical-align: middle;\n",
       "    }\n",
       "\n",
       "    .dataframe tbody tr th {\n",
       "        vertical-align: top;\n",
       "    }\n",
       "\n",
       "    .dataframe thead th {\n",
       "        text-align: right;\n",
       "    }\n",
       "</style>\n",
       "<table border=\"1\" class=\"dataframe\">\n",
       "  <thead>\n",
       "    <tr style=\"text-align: right;\">\n",
       "      <th></th>\n",
       "      <th>hash_id_x</th>\n",
       "      <th>lac</th>\n",
       "      <th>cid</th>\n",
       "      <th>hash_id_y</th>\n",
       "      <th>dif</th>\n",
       "    </tr>\n",
       "  </thead>\n",
       "  <tbody>\n",
       "    <tr>\n",
       "      <th>5222091</th>\n",
       "      <td>1998843</td>\n",
       "      <td>7785</td>\n",
       "      <td>38649</td>\n",
       "      <td>2518576</td>\n",
       "      <td>0.000001</td>\n",
       "    </tr>\n",
       "    <tr>\n",
       "      <th>2579022</th>\n",
       "      <td>1998843</td>\n",
       "      <td>7755</td>\n",
       "      <td>44712</td>\n",
       "      <td>2756372</td>\n",
       "      <td>0.000525</td>\n",
       "    </tr>\n",
       "    <tr>\n",
       "      <th>5180433</th>\n",
       "      <td>1998843</td>\n",
       "      <td>7755</td>\n",
       "      <td>2981</td>\n",
       "      <td>2019342</td>\n",
       "      <td>0.000066</td>\n",
       "    </tr>\n",
       "    <tr>\n",
       "      <th>5183339</th>\n",
       "      <td>1998843</td>\n",
       "      <td>7729</td>\n",
       "      <td>13350</td>\n",
       "      <td>2518576</td>\n",
       "      <td>0.000296</td>\n",
       "    </tr>\n",
       "    <tr>\n",
       "      <th>5183356</th>\n",
       "      <td>1998843</td>\n",
       "      <td>7729</td>\n",
       "      <td>36811</td>\n",
       "      <td>2476587</td>\n",
       "      <td>0.000006</td>\n",
       "    </tr>\n",
       "    <tr>\n",
       "      <th>5184666</th>\n",
       "      <td>1998843</td>\n",
       "      <td>7755</td>\n",
       "      <td>44698</td>\n",
       "      <td>2295202</td>\n",
       "      <td>0.000883</td>\n",
       "    </tr>\n",
       "    <tr>\n",
       "      <th>5198993</th>\n",
       "      <td>1998843</td>\n",
       "      <td>7700</td>\n",
       "      <td>1335</td>\n",
       "      <td>2806696</td>\n",
       "      <td>0.000009</td>\n",
       "    </tr>\n",
       "    <tr>\n",
       "      <th>2579032</th>\n",
       "      <td>1998843</td>\n",
       "      <td>7755</td>\n",
       "      <td>44713</td>\n",
       "      <td>2714643</td>\n",
       "      <td>0.000145</td>\n",
       "    </tr>\n",
       "    <tr>\n",
       "      <th>2578697</th>\n",
       "      <td>1998843</td>\n",
       "      <td>7755</td>\n",
       "      <td>2997</td>\n",
       "      <td>2715995</td>\n",
       "      <td>0.000024</td>\n",
       "    </tr>\n",
       "    <tr>\n",
       "      <th>5173981</th>\n",
       "      <td>1998843</td>\n",
       "      <td>7785</td>\n",
       "      <td>28364</td>\n",
       "      <td>2458905</td>\n",
       "      <td>0.000005</td>\n",
       "    </tr>\n",
       "    <tr>\n",
       "      <th>2578200</th>\n",
       "      <td>1998843</td>\n",
       "      <td>7752</td>\n",
       "      <td>8575</td>\n",
       "      <td>2353559</td>\n",
       "      <td>0.000020</td>\n",
       "    </tr>\n",
       "    <tr>\n",
       "      <th>5203615</th>\n",
       "      <td>1998843</td>\n",
       "      <td>7758</td>\n",
       "      <td>31965</td>\n",
       "      <td>2797567</td>\n",
       "      <td>0.000066</td>\n",
       "    </tr>\n",
       "    <tr>\n",
       "      <th>5204718</th>\n",
       "      <td>1998843</td>\n",
       "      <td>7755</td>\n",
       "      <td>44714</td>\n",
       "      <td>2109448</td>\n",
       "      <td>0.000649</td>\n",
       "    </tr>\n",
       "    <tr>\n",
       "      <th>2514974</th>\n",
       "      <td>1998843</td>\n",
       "      <td>7755</td>\n",
       "      <td>3720</td>\n",
       "      <td>2546587</td>\n",
       "      <td>0.000519</td>\n",
       "    </tr>\n",
       "    <tr>\n",
       "      <th>2500865</th>\n",
       "      <td>1998843</td>\n",
       "      <td>7716</td>\n",
       "      <td>55654</td>\n",
       "      <td>2618680</td>\n",
       "      <td>0.000001</td>\n",
       "    </tr>\n",
       "    <tr>\n",
       "      <th>5208055</th>\n",
       "      <td>1998843</td>\n",
       "      <td>7779</td>\n",
       "      <td>59626</td>\n",
       "      <td>2549493</td>\n",
       "      <td>0.000031</td>\n",
       "    </tr>\n",
       "    <tr>\n",
       "      <th>5173983</th>\n",
       "      <td>1998843</td>\n",
       "      <td>7785</td>\n",
       "      <td>32136</td>\n",
       "      <td>2884751</td>\n",
       "      <td>0.006886</td>\n",
       "    </tr>\n",
       "  </tbody>\n",
       "</table>\n",
       "</div>"
      ],
      "text/plain": [
       "         hash_id_x   lac    cid  hash_id_y       dif\n",
       "5222091    1998843  7785  38649    2518576  0.000001\n",
       "2579022    1998843  7755  44712    2756372  0.000525\n",
       "5180433    1998843  7755   2981    2019342  0.000066\n",
       "5183339    1998843  7729  13350    2518576  0.000296\n",
       "5183356    1998843  7729  36811    2476587  0.000006\n",
       "5184666    1998843  7755  44698    2295202  0.000883\n",
       "5198993    1998843  7700   1335    2806696  0.000009\n",
       "2579032    1998843  7755  44713    2714643  0.000145\n",
       "2578697    1998843  7755   2997    2715995  0.000024\n",
       "5173981    1998843  7785  28364    2458905  0.000005\n",
       "2578200    1998843  7752   8575    2353559  0.000020\n",
       "5203615    1998843  7758  31965    2797567  0.000066\n",
       "5204718    1998843  7755  44714    2109448  0.000649\n",
       "2514974    1998843  7755   3720    2546587  0.000519\n",
       "2500865    1998843  7716  55654    2618680  0.000001\n",
       "5208055    1998843  7779  59626    2549493  0.000031\n",
       "5173983    1998843  7785  32136    2884751  0.006886"
      ]
     },
     "execution_count": 43,
     "metadata": {},
     "output_type": "execute_result"
    }
   ],
   "source": [
    "# Получена табличка, которая хранит в себе уникальные lac/cid, в которых клиент регистрировался\n",
    "# как в первой, так и во второй половине месяца\n",
    "\n",
    "# Причем выбраны те записи, у которых абсолютная ошибка наименьшая\n",
    "# т.е. наиболее каждой lac/cid выставлены наиболее похожие комбинации hash_id_x и hash_id_y\n",
    "\n",
    "df.sort_values(by=['hash_id_x'], ascending = False)[['hash_id_x','lac','cid','hash_id_y','dif']].head(17)\n",
    "\n",
    "# Осталось посчитать для каждого hash_id_x наиболее часто встречающийся hash_id_y "
   ]
  },
  {
   "cell_type": "code",
   "execution_count": 44,
   "metadata": {},
   "outputs": [],
   "source": [
    "# Считаем количество раз, когда hash_id_y получал наименьшую ошибку для hash_id_x\n",
    "\n",
    "df = df.groupby(['hash_id_x',\n",
    "                 'hash_id_y']).size().reset_index(name = 'counts')"
   ]
  },
  {
   "cell_type": "code",
   "execution_count": 45,
   "metadata": {},
   "outputs": [
    {
     "data": {
      "text/html": [
       "<div>\n",
       "<style scoped>\n",
       "    .dataframe tbody tr th:only-of-type {\n",
       "        vertical-align: middle;\n",
       "    }\n",
       "\n",
       "    .dataframe tbody tr th {\n",
       "        vertical-align: top;\n",
       "    }\n",
       "\n",
       "    .dataframe thead th {\n",
       "        text-align: right;\n",
       "    }\n",
       "</style>\n",
       "<table border=\"1\" class=\"dataframe\">\n",
       "  <thead>\n",
       "    <tr style=\"text-align: right;\">\n",
       "      <th></th>\n",
       "      <th>hash_id_x</th>\n",
       "      <th>hash_id_y</th>\n",
       "      <th>counts</th>\n",
       "    </tr>\n",
       "  </thead>\n",
       "  <tbody>\n",
       "    <tr>\n",
       "      <th>3</th>\n",
       "      <td>1001168</td>\n",
       "      <td>2038453</td>\n",
       "      <td>14</td>\n",
       "    </tr>\n",
       "    <tr>\n",
       "      <th>0</th>\n",
       "      <td>1001168</td>\n",
       "      <td>2007517</td>\n",
       "      <td>4</td>\n",
       "    </tr>\n",
       "    <tr>\n",
       "      <th>14</th>\n",
       "      <td>1001168</td>\n",
       "      <td>2224609</td>\n",
       "      <td>4</td>\n",
       "    </tr>\n",
       "    <tr>\n",
       "      <th>1</th>\n",
       "      <td>1001168</td>\n",
       "      <td>2015067</td>\n",
       "      <td>2</td>\n",
       "    </tr>\n",
       "    <tr>\n",
       "      <th>16</th>\n",
       "      <td>1001168</td>\n",
       "      <td>2235737</td>\n",
       "      <td>2</td>\n",
       "    </tr>\n",
       "    <tr>\n",
       "      <th>2</th>\n",
       "      <td>1001168</td>\n",
       "      <td>2030532</td>\n",
       "      <td>1</td>\n",
       "    </tr>\n",
       "    <tr>\n",
       "      <th>4</th>\n",
       "      <td>1001168</td>\n",
       "      <td>2062791</td>\n",
       "      <td>1</td>\n",
       "    </tr>\n",
       "    <tr>\n",
       "      <th>5</th>\n",
       "      <td>1001168</td>\n",
       "      <td>2119842</td>\n",
       "      <td>1</td>\n",
       "    </tr>\n",
       "    <tr>\n",
       "      <th>6</th>\n",
       "      <td>1001168</td>\n",
       "      <td>2124865</td>\n",
       "      <td>1</td>\n",
       "    </tr>\n",
       "    <tr>\n",
       "      <th>7</th>\n",
       "      <td>1001168</td>\n",
       "      <td>2135070</td>\n",
       "      <td>1</td>\n",
       "    </tr>\n",
       "    <tr>\n",
       "      <th>8</th>\n",
       "      <td>1001168</td>\n",
       "      <td>2137536</td>\n",
       "      <td>1</td>\n",
       "    </tr>\n",
       "    <tr>\n",
       "      <th>9</th>\n",
       "      <td>1001168</td>\n",
       "      <td>2155223</td>\n",
       "      <td>1</td>\n",
       "    </tr>\n",
       "    <tr>\n",
       "      <th>10</th>\n",
       "      <td>1001168</td>\n",
       "      <td>2184924</td>\n",
       "      <td>1</td>\n",
       "    </tr>\n",
       "    <tr>\n",
       "      <th>11</th>\n",
       "      <td>1001168</td>\n",
       "      <td>2205666</td>\n",
       "      <td>1</td>\n",
       "    </tr>\n",
       "    <tr>\n",
       "      <th>12</th>\n",
       "      <td>1001168</td>\n",
       "      <td>2210701</td>\n",
       "      <td>1</td>\n",
       "    </tr>\n",
       "    <tr>\n",
       "      <th>13</th>\n",
       "      <td>1001168</td>\n",
       "      <td>2222680</td>\n",
       "      <td>1</td>\n",
       "    </tr>\n",
       "    <tr>\n",
       "      <th>15</th>\n",
       "      <td>1001168</td>\n",
       "      <td>2228448</td>\n",
       "      <td>1</td>\n",
       "    </tr>\n",
       "  </tbody>\n",
       "</table>\n",
       "</div>"
      ],
      "text/plain": [
       "    hash_id_x  hash_id_y  counts\n",
       "3     1001168    2038453      14\n",
       "0     1001168    2007517       4\n",
       "14    1001168    2224609       4\n",
       "1     1001168    2015067       2\n",
       "16    1001168    2235737       2\n",
       "2     1001168    2030532       1\n",
       "4     1001168    2062791       1\n",
       "5     1001168    2119842       1\n",
       "6     1001168    2124865       1\n",
       "7     1001168    2135070       1\n",
       "8     1001168    2137536       1\n",
       "9     1001168    2155223       1\n",
       "10    1001168    2184924       1\n",
       "11    1001168    2205666       1\n",
       "12    1001168    2210701       1\n",
       "13    1001168    2222680       1\n",
       "15    1001168    2228448       1"
      ]
     },
     "execution_count": 45,
     "metadata": {},
     "output_type": "execute_result"
    }
   ],
   "source": [
    "df.head(17).sort_values(by=['hash_id_x', 'counts'], ascending = False)"
   ]
  },
  {
   "cell_type": "code",
   "execution_count": 46,
   "metadata": {},
   "outputs": [],
   "source": [
    "# Оставляем записи с наиболее часто встречающимися hash_id_y для hash_id_x\n",
    "\n",
    "df = df.loc[df.groupby(['hash_id_x'])['counts'].idxmax()].sort_values(by=['counts'],ascending  = False)"
   ]
  },
  {
   "cell_type": "code",
   "execution_count": 47,
   "metadata": {},
   "outputs": [
    {
     "data": {
      "text/html": [
       "<div>\n",
       "<style scoped>\n",
       "    .dataframe tbody tr th:only-of-type {\n",
       "        vertical-align: middle;\n",
       "    }\n",
       "\n",
       "    .dataframe tbody tr th {\n",
       "        vertical-align: top;\n",
       "    }\n",
       "\n",
       "    .dataframe thead th {\n",
       "        text-align: right;\n",
       "    }\n",
       "</style>\n",
       "<table border=\"1\" class=\"dataframe\">\n",
       "  <thead>\n",
       "    <tr style=\"text-align: right;\">\n",
       "      <th></th>\n",
       "      <th>hash_id_x</th>\n",
       "      <th>hash_id_y</th>\n",
       "      <th>counts</th>\n",
       "    </tr>\n",
       "  </thead>\n",
       "  <tbody>\n",
       "    <tr>\n",
       "      <th>4714</th>\n",
       "      <td>1070773</td>\n",
       "      <td>2797567</td>\n",
       "      <td>228</td>\n",
       "    </tr>\n",
       "    <tr>\n",
       "      <th>35830</th>\n",
       "      <td>1522878</td>\n",
       "      <td>2586410</td>\n",
       "      <td>209</td>\n",
       "    </tr>\n",
       "    <tr>\n",
       "      <th>40382</th>\n",
       "      <td>1590607</td>\n",
       "      <td>2870254</td>\n",
       "      <td>206</td>\n",
       "    </tr>\n",
       "    <tr>\n",
       "      <th>19373</th>\n",
       "      <td>1280078</td>\n",
       "      <td>2900614</td>\n",
       "      <td>193</td>\n",
       "    </tr>\n",
       "    <tr>\n",
       "      <th>58094</th>\n",
       "      <td>1834586</td>\n",
       "      <td>2514357</td>\n",
       "      <td>184</td>\n",
       "    </tr>\n",
       "    <tr>\n",
       "      <th>30582</th>\n",
       "      <td>1459012</td>\n",
       "      <td>2199609</td>\n",
       "      <td>148</td>\n",
       "    </tr>\n",
       "    <tr>\n",
       "      <th>44843</th>\n",
       "      <td>1652233</td>\n",
       "      <td>2992230</td>\n",
       "      <td>145</td>\n",
       "    </tr>\n",
       "    <tr>\n",
       "      <th>44273</th>\n",
       "      <td>1640319</td>\n",
       "      <td>2983716</td>\n",
       "      <td>137</td>\n",
       "    </tr>\n",
       "    <tr>\n",
       "      <th>19818</th>\n",
       "      <td>1296482</td>\n",
       "      <td>2489230</td>\n",
       "      <td>136</td>\n",
       "    </tr>\n",
       "    <tr>\n",
       "      <th>23487</th>\n",
       "      <td>1365250</td>\n",
       "      <td>2054920</td>\n",
       "      <td>128</td>\n",
       "    </tr>\n",
       "    <tr>\n",
       "      <th>46454</th>\n",
       "      <td>1682648</td>\n",
       "      <td>2532788</td>\n",
       "      <td>120</td>\n",
       "    </tr>\n",
       "    <tr>\n",
       "      <th>66003</th>\n",
       "      <td>1971116</td>\n",
       "      <td>2851039</td>\n",
       "      <td>115</td>\n",
       "    </tr>\n",
       "    <tr>\n",
       "      <th>68319</th>\n",
       "      <td>1991192</td>\n",
       "      <td>2045037</td>\n",
       "      <td>109</td>\n",
       "    </tr>\n",
       "    <tr>\n",
       "      <th>57212</th>\n",
       "      <td>1820793</td>\n",
       "      <td>2943025</td>\n",
       "      <td>108</td>\n",
       "    </tr>\n",
       "    <tr>\n",
       "      <th>59742</th>\n",
       "      <td>1860965</td>\n",
       "      <td>2181047</td>\n",
       "      <td>108</td>\n",
       "    </tr>\n",
       "    <tr>\n",
       "      <th>56929</th>\n",
       "      <td>1817641</td>\n",
       "      <td>2961830</td>\n",
       "      <td>108</td>\n",
       "    </tr>\n",
       "    <tr>\n",
       "      <th>23748</th>\n",
       "      <td>1367536</td>\n",
       "      <td>2247594</td>\n",
       "      <td>108</td>\n",
       "    </tr>\n",
       "  </tbody>\n",
       "</table>\n",
       "</div>"
      ],
      "text/plain": [
       "       hash_id_x  hash_id_y  counts\n",
       "4714     1070773    2797567     228\n",
       "35830    1522878    2586410     209\n",
       "40382    1590607    2870254     206\n",
       "19373    1280078    2900614     193\n",
       "58094    1834586    2514357     184\n",
       "30582    1459012    2199609     148\n",
       "44843    1652233    2992230     145\n",
       "44273    1640319    2983716     137\n",
       "19818    1296482    2489230     136\n",
       "23487    1365250    2054920     128\n",
       "46454    1682648    2532788     120\n",
       "66003    1971116    2851039     115\n",
       "68319    1991192    2045037     109\n",
       "57212    1820793    2943025     108\n",
       "59742    1860965    2181047     108\n",
       "56929    1817641    2961830     108\n",
       "23748    1367536    2247594     108"
      ]
     },
     "execution_count": 47,
     "metadata": {},
     "output_type": "execute_result"
    }
   ],
   "source": [
    "df.head(17)"
   ]
  },
  {
   "cell_type": "code",
   "execution_count": 48,
   "metadata": {},
   "outputs": [],
   "source": [
    "# Переименовываем атрибут для соединения с example_df\n",
    "\n",
    "df.rename(columns={\"hash_id_x\": \"id1\"}, inplace = True)"
   ]
  },
  {
   "cell_type": "code",
   "execution_count": 49,
   "metadata": {},
   "outputs": [],
   "source": [
    "# Cоединяем с example_df для оценки результата\n",
    "\n",
    "res_df = pd.merge(example_df, \n",
    "                 df, \n",
    "                 on= ['id1'], \n",
    "                 how = 'left')"
   ]
  },
  {
   "cell_type": "code",
   "execution_count": 50,
   "metadata": {},
   "outputs": [],
   "source": [
    "# Проставляем флаг верного попадания\n",
    "\n",
    "res_df['err'] = (res_df['id2'] - res_df['hash_id_y']).apply(lambda x: x if x == 0 else 1)"
   ]
  },
  {
   "cell_type": "code",
   "execution_count": 51,
   "metadata": {},
   "outputs": [
    {
     "data": {
      "text/plain": [
       "0.835030549898167"
      ]
     },
     "execution_count": 51,
     "metadata": {},
     "output_type": "execute_result"
    }
   ],
   "source": [
    "# Считаем долю верных попаданий \n",
    "res_df.loc[res_df['err'] == 0].shape[0]/res_df.shape[0]"
   ]
  },
  {
   "cell_type": "code",
   "execution_count": 52,
   "metadata": {},
   "outputs": [
    {
     "data": {
      "image/png": "[encoded data removed]",
      "text/plain": [
       "<Figure size 432x288 with 1 Axes>"
      ]
     },
     "metadata": {
      "needs_background": "light"
     },
     "output_type": "display_data"
    }
   ],
   "source": [
    "# распределение ошибок в зависимости от частоты пересечений hash_id_x и hash_id_y \n",
    "# т.е. пропорциональность ошибки и числа записей для клиента в начале и конце месяца\n",
    "\n",
    "plt.plot(res_df['counts'],res_df['err'], '.', color='red');"
   ]
  },
  {
   "cell_type": "code",
   "execution_count": 56,
   "metadata": {},
   "outputs": [
    {
     "data": {
      "text/plain": [
       "1    361\n",
       "2     40\n",
       "3      9\n",
       "4      3\n",
       "6      1\n",
       "5      1\n",
       "Name: hash_id_y, dtype: int64"
      ]
     },
     "execution_count": 56,
     "metadata": {},
     "output_type": "execute_result"
    }
   ],
   "source": [
    "# количество присвоений hash_id_y \n",
    "# > 1 - дубль\n",
    "\n",
    "res_df['hash_id_y'].value_counts().value_counts()"
   ]
  },
  {
   "cell_type": "markdown",
   "metadata": {},
   "source": [
    "###  Формирование соответствий на неразмеченном датасете"
   ]
  },
  {
   "cell_type": "code",
   "execution_count": 59,
   "metadata": {},
   "outputs": [],
   "source": [
    "# разделим данные на две части месяца\n",
    "first_not_rel_df = not_rel_df.loc[not_rel_df['day'] < 15]\n",
    "second_not_rel_df  = not_rel_df.loc[not_rel_df['day'] > 15]\n",
    "\n",
    "\n",
    "# Для каждого hash_id первой половины посчитаем,\n",
    "# сколько раз hash_id регистрировался в каждой паре lac/cid\n",
    "f1_prep = first_not_rel_df.groupby(['hash_id',\n",
    "                                    'lac',\n",
    "                                    'cid'])['day'].count().reset_index(name='counts')\n",
    "\n",
    "\n",
    "# Для каждого hash_id второй половины посчитаем,\n",
    "# сколько раз hash_id регистрировался в каждой паре lac/cid\n",
    "s1_prep = second_not_rel_df.groupby(['hash_id',\n",
    "                                     'lac',\n",
    "                                     'cid'])['day'].count().reset_index(name='counts')\n",
    "\n",
    "\n",
    "# Будем искать соответствие hash_id первой и второй половины на основании пар lac/cid и количества регистраций в них\n",
    "# соединим два подготовленных в предыдущих шагах датафрейма\n",
    "f_df = pd.merge(f1_prep, \n",
    "                s1_prep, \n",
    "                on= ['lac','cid'], \n",
    "                how = 'inner')\n",
    "\n",
    "\n",
    "\n",
    "# Отсортируем датафрейм первой половины месяца с имеющимися соответствиями идентификаторов \n",
    "# в порядке возрастания hash_id, day, ts\n",
    "ftdf = first_not_rel_df.sort_values(by=['hash_id','day','ts'])\n",
    "\n",
    "\n",
    "# Подтянем ts следующей записи для каждого hash_id и вычтем из него ts текущей\n",
    "# В случае, если у следующей записи тот же ts, получим 0 \n",
    "ftdf['lead'] = ftdf.groupby(['hash_id'])['ts'].shift(-1) - ftdf['ts']\n",
    "\n",
    "\n",
    "# Подтянем ts следующей записи для каждого hash_id и вычтем из него ts текущей\n",
    "# В случае, если у следующей записи тот же ts, получим 0 \n",
    "ftdf['lead'] = ftdf.groupby(['hash_id'])['ts'].shift(-1) - ftdf['ts']\n",
    "\n",
    "\n",
    "# Если же запись последняя, проставим 0 \n",
    "ftdf['lead'].fillna(0, inplace = True)\n",
    "\n",
    "\n",
    "# Просуммируем время пребывания клиента на каждой паре lac/cid\n",
    "ftdf = ftdf.groupby(['hash_id','lac','cid'])['lead'].sum().reset_index(name = 'sec')\n",
    "\n",
    "\n",
    "# Действия выше производились для первой половины месяца.\n",
    "# Теперь повторим то же самое для второй половины.\n",
    "stdf = second_not_rel_df.sort_values(by=['hash_id','day','ts'])\n",
    "stdf['lead'] = stdf.groupby(['hash_id'])['ts'].shift(-1) - stdf['ts']\n",
    "stdf['lead'].fillna(0, inplace = True)\n",
    "stdf = stdf.groupby(['hash_id','lac','cid'])['lead'].sum().reset_index(name = 'sec')\n",
    "\n",
    "\n",
    "# Будем искать соответствие hash_id первой и второй половины на основании пар lac/cid и количества проведенных секунд в них\n",
    "# соединим два подготовленных в предыдущих шагах датафрейма\n",
    "s_df = pd.merge(ftdf, \n",
    "                stdf, \n",
    "                on= ['lac','cid'], \n",
    "                how = 'inner')\n",
    "\n",
    "\n",
    "# Первый датафрейм содержит количество регистраций клиентов в парах lac/cid \n",
    "# Второй датафрейм содержит число секунд, проведенных клиентом в парах lac/cid \n",
    "# Сформируем третий, который будет содержать оба показателя, на основании которых будем искать соответствие\n",
    "df = pd.merge(f_df, \n",
    "              s_df, \n",
    "              on= ['lac','cid', 'hash_id_x', 'hash_id_y'], \n",
    "              how = 'inner')\n",
    "\n",
    "\n",
    "# Зададим абсолютную разность в проведенных секундах в lac/cid первой и второй половинах месяца\n",
    "df['dif_s'] = abs(df['sec_x'] - df['sec_y'])\n",
    "\n",
    "\n",
    "# Зададим абсолютную разность в количестве регистраций в lac/cid первой и второй половинах месяца\n",
    "df['dif_c'] = abs(df['counts_x'] - df['counts_y'])\n",
    "\n",
    "\n",
    "# Нормируем абсолютную ошибку (будем называть разность так) в проведенных секундах в lac/cid первой и второй половинах месяца\n",
    "df['norm_dif_c'] = (df['dif_c'] - df['dif_c'].min())/(df['dif_c'].max() - df['dif_c'].min())\n",
    "\n",
    "\n",
    "# Нормируем абсолютную ошибку в количестве регистраций в lac/cid первой и второй половинах месяца\n",
    "df['norm_dif_s'] = (df['dif_s'] - df['dif_s'].min())/(df['dif_s'].max() - df['dif_s'].min())\n",
    "\n",
    "\n",
    "# Под итоговой ошибкой будем считать сумму двух подготовленных ошибок \n",
    "df['dif'] = df['norm_dif_c'] + df['norm_dif_s']\n",
    "\n",
    "\n",
    "# Оставим те записи, у которых итоговая ошибка будет минимальной для hash_id из первой половины месяца \n",
    "df = df.loc[df['dif'] == df.groupby(['hash_id_x',\n",
    "                                     'lac',\n",
    "                                     'cid'])['dif'].transform('min')].sort_values(by=['hash_id_x'], ascending = False)\n",
    "\n",
    "\n",
    "# Считаем количество раз, когда hash_id_y получал наименьшую ошибку для hash_id_x\n",
    "df = df.groupby(['hash_id_x',\n",
    "                 'hash_id_y']).size().reset_index(name = 'counts')\n",
    "\n",
    "\n",
    "# Оставляем записи с наиболее часто встречающимися hash_id_y для hash_id_x\n",
    "df = df.loc[df.groupby(['hash_id_x'])['counts'].idxmax()].sort_values(by=['counts'],ascending  = False)"
   ]
  },
  {
   "cell_type": "code",
   "execution_count": 60,
   "metadata": {},
   "outputs": [
    {
     "data": {
      "text/html": [
       "<div>\n",
       "<style scoped>\n",
       "    .dataframe tbody tr th:only-of-type {\n",
       "        vertical-align: middle;\n",
       "    }\n",
       "\n",
       "    .dataframe tbody tr th {\n",
       "        vertical-align: top;\n",
       "    }\n",
       "\n",
       "    .dataframe thead th {\n",
       "        text-align: right;\n",
       "    }\n",
       "</style>\n",
       "<table border=\"1\" class=\"dataframe\">\n",
       "  <thead>\n",
       "    <tr style=\"text-align: right;\">\n",
       "      <th></th>\n",
       "      <th>hash_id</th>\n",
       "      <th>related_id</th>\n",
       "      <th>counts</th>\n",
       "    </tr>\n",
       "  </thead>\n",
       "  <tbody>\n",
       "    <tr>\n",
       "      <th>325340</th>\n",
       "      <td>1704031</td>\n",
       "      <td>2295025</td>\n",
       "      <td>238</td>\n",
       "    </tr>\n",
       "    <tr>\n",
       "      <th>449631</th>\n",
       "      <td>1969808</td>\n",
       "      <td>2804394</td>\n",
       "      <td>210</td>\n",
       "    </tr>\n",
       "    <tr>\n",
       "      <th>59679</th>\n",
       "      <td>1127318</td>\n",
       "      <td>2330455</td>\n",
       "      <td>208</td>\n",
       "    </tr>\n",
       "    <tr>\n",
       "      <th>292988</th>\n",
       "      <td>1638622</td>\n",
       "      <td>2755019</td>\n",
       "      <td>168</td>\n",
       "    </tr>\n",
       "    <tr>\n",
       "      <th>73150</th>\n",
       "      <td>1151815</td>\n",
       "      <td>2521795</td>\n",
       "      <td>148</td>\n",
       "    </tr>\n",
       "  </tbody>\n",
       "</table>\n",
       "</div>"
      ],
      "text/plain": [
       "        hash_id  related_id  counts\n",
       "325340  1704031     2295025     238\n",
       "449631  1969808     2804394     210\n",
       "59679   1127318     2330455     208\n",
       "292988  1638622     2755019     168\n",
       "73150   1151815     2521795     148"
      ]
     },
     "execution_count": 60,
     "metadata": {},
     "output_type": "execute_result"
    }
   ],
   "source": [
    "df.rename( columns = {'hash_id_x':'hash_id','hash_id_y': 'related_id'}, inplace = True),\n",
    "df.head()"
   ]
  },
  {
   "cell_type": "code",
   "execution_count": 61,
   "metadata": {},
   "outputs": [],
   "source": [
    "# выберем уникальные hash_id, у которых нет изначального соответствия\n",
    "\n",
    "res_df = pd.DataFrame(first_not_rel_df['hash_id'].unique(), columns = ['hash_id']) "
   ]
  },
  {
   "cell_type": "code",
   "execution_count": 62,
   "metadata": {},
   "outputs": [],
   "source": [
    "# Подтянем к ним полученные соответствия \n",
    "\n",
    "res_df = pd.merge(res_df, \n",
    "                  df,\n",
    "                  on='hash_id', \n",
    "                  how = 'left')"
   ]
  },
  {
   "cell_type": "code",
   "execution_count": 63,
   "metadata": {},
   "outputs": [],
   "source": [
    "res_df.rename( columns = {'hash_id':'id1','related_id': 'id2'}, inplace = True)\n",
    "res_df = res_df[['id1', 'id2']]\n",
    "\n",
    "# Увы, есть один неопределившийся hash_id из второй половины\n",
    "res_df['id2'] = res_df['id2'].fillna(-1).astype(int)"
   ]
  },
  {
   "cell_type": "code",
   "execution_count": 64,
   "metadata": {},
   "outputs": [
    {
     "data": {
      "text/plain": [
       "1     1043\n",
       "2      217\n",
       "3       53\n",
       "4       18\n",
       "5        3\n",
       "12       1\n",
       "9        1\n",
       "7        1\n",
       "6        1\n",
       "Name: id2, dtype: int64"
      ]
     },
     "execution_count": 64,
     "metadata": {},
     "output_type": "execute_result"
    }
   ],
   "source": [
    "res_df['id2'].value_counts().value_counts()"
   ]
  },
  {
   "cell_type": "code",
   "execution_count": 65,
   "metadata": {},
   "outputs": [
    {
     "data": {
      "text/plain": [
       "(1757, 2)"
      ]
     },
     "execution_count": 65,
     "metadata": {},
     "output_type": "execute_result"
    }
   ],
   "source": [
    "res_df.shape"
   ]
  },
  {
   "cell_type": "code",
   "execution_count": 60,
   "metadata": {},
   "outputs": [],
   "source": [
    "res_df.to_csv(r'C:\\Users\\artyo\\OneDrive\\Рабочий стол\\1f\\03_result.csv', sep = ';')"
   ]
  }
 ],
 "metadata": {
  "kernelspec": {
   "display_name": "Python 3",
   "language": "python",
   "name": "python3"
  },
  "language_info": {
   "codemirror_mode": {
    "name": "ipython",
    "version": 3
   },
   "file_extension": ".py",
   "mimetype": "text/x-python",
   "name": "python",
   "nbconvert_exporter": "python",
   "pygments_lexer": "ipython3",
   "version": "3.7.3"
  }
 },
 "nbformat": 4,
 "nbformat_minor": 2
}
